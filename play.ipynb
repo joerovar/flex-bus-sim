{
 "cells": [
  {
   "cell_type": "code",
   "execution_count": null,
   "metadata": {},
   "outputs": [],
   "source": [
    "import pandas as pd\n",
    "from training_claude import load_agent, evaluate_agent\n",
    "from rl_env import FlexSimEnv\n",
    "from eval import evaluate_heuristic\n",
    "import numpy as np\n",
    "from scipy import stats\n",
    "import seaborn as sns\n",
    "import matplotlib.pyplot as plt\n",
    "import matplotlib as mpl\n",
    "import os\n",
    "import time\n",
    "from utils import create_field_from_list_column\n",
    "from params import ON_TIME_BOUNDS, N_STOPS, MAX_TIME_HOURS, TRIP_WEIGHT, HEURISTIC_BETA\n",
    "# resolution to 100 dpi\n",
    "mpl.rcParams['figure.dpi'] = 120\n",
    "\n",
    "import matplotlib.font_manager as fm\n",
    "fm.addfont = fm.FontProperties(fname='fonts/Montserrat.zip')\n"
   ]
  },
  {
   "cell_type": "code",
   "execution_count": null,
   "metadata": {},
   "outputs": [],
   "source": [
    "main_history = {\n",
    "    'pax': [],\n",
    "    'vehicles': [],\n",
    "    'idle': [],\n",
    "}\n",
    "N_EPISODES = 30\n",
    "RANDOM_SEED = 1\n",
    "\n",
    "# slope scenarios\n",
    "alpha = 1.2\n",
    "demand = 'peak'"
   ]
  },
  {
   "cell_type": "code",
   "execution_count": null,
   "metadata": {},
   "outputs": [],
   "source": [
    "scenario_name = f'heuristic_demand'\n",
    "np.random.seed(RANDOM_SEED)\n",
    "tmp_history = evaluate_heuristic(\n",
    "    alpha=alpha, beta=HEURISTIC_BETA, n_episodes=N_EPISODES, \n",
    "    output_history=True,\n",
    "    scenario_name=scenario_name, demand_scenario=demand)\n",
    "for ky in tmp_history:\n",
    "    if ky not in main_history:\n",
    "        main_history[ky] = []\n",
    "    tmp_history[ky]['demand'] = demand\n",
    "    main_history[ky].append(tmp_history[ky])"
   ]
  },
  {
   "cell_type": "code",
   "execution_count": null,
   "metadata": {},
   "outputs": [],
   "source": []
  },
  {
   "cell_type": "markdown",
   "metadata": {},
   "source": [
    "## trash"
   ]
  },
  {
   "cell_type": "code",
   "execution_count": 2,
   "metadata": {},
   "outputs": [],
   "source": [
    "env = EnvironmentManager(reward_weight=TRIP_WEIGHT)\n",
    "env.start_vehicles()\n",
    "env.route.load_all_pax(demand_scenario='off_peak')\n",
    "\n",
    "observation, reward, done, terminated, info = env.step(action=None)\n",
    "while not terminated:\n",
    "    if not done:\n",
    "        action = get_action(\n",
    "            'DRD', observation, \n",
    "            minimum_requests_slope=1.0, base_minimum_requests=1.5) # ideal slope\n",
    "    else:\n",
    "        action = None\n",
    "    observation, reward, done, terminated, info = env.step(action=action)\n",
    "history = env.get_history()"
   ]
  },
  {
   "cell_type": "code",
   "execution_count": 7,
   "metadata": {},
   "outputs": [
    {
     "name": "stdout",
     "output_type": "stream",
     "text": [
      "Vehicle 1 at stop 1 with expected headway 91\n",
      "Time difference: 59\n",
      "Current time: 10887, Old depart time 10886.8 New depart time: 10945.6\n",
      "Vehicle 0 at stop 3 with expected headway 83\n",
      "Time difference: 67\n",
      "Current time: 4974, Old depart time 4974.0 New depart time: 5041.2\n",
      "Vehicle 0 at stop 0 with expected headway 124\n",
      "Time difference: 26\n",
      "Current time: 6031, Old depart time 6043.100000000002 New depart time: 6068.999999999999\n",
      "Vehicle 0 at stop 1 with expected headway 116\n",
      "Time difference: 34\n",
      "Current time: 6165, Old depart time 6177.099999999999 New depart time: 6211.299999999999\n",
      "Vehicle 0 at stop 3 with expected headway 80\n",
      "Time difference: 70\n",
      "Current time: 6271, Old depart time 6271.299999999999 New depart time: 6341.299999999999\n",
      "Vehicle 0 at stop 1 with expected headway 142\n",
      "Time difference: 8\n",
      "Current time: 6682, Old depart time 6700.5 New depart time: 6708.2\n",
      "Vehicle 0 at stop 5 with expected headway 146\n",
      "Time difference: 4\n",
      "Current time: 8218, Old depart time 8238.400000000001 New depart time: 8242.0\n",
      "Vehicle 0 at stop 1 with expected headway 124\n",
      "Time difference: 26\n",
      "Current time: 9705, Old depart time 9705.0 New depart time: 9731.300000000001\n"
     ]
    }
   ],
   "source": [
    "from eval import evaluate_heuristic\n",
    "\n",
    "# function to receive a float and return a string with '_' instead of '.'\n",
    "def float_to_str(f):\n",
    "    return str(f).replace('.', '_')\n",
    "\n",
    "main_history = {\n",
    "    'pax': [],\n",
    "    'vehicles': [],\n",
    "    'idle': [],\n",
    "}\n",
    "N_EPISODES = 30\n",
    "RANDOM_SEED = 1\n",
    "\n",
    "# slope scenarios\n",
    "alphas = [1.0, 1.2, 1.5, 1.8]\n",
    "# alphas = [1.2,]\n",
    "\n",
    "main_history = {\n",
    "    'pax': [],\n",
    "    # 'state': [],\n",
    "    'vehicles': [],\n",
    "    'idle': [],\n",
    "}\n",
    "N_EPISODES = 30\n",
    "RANDOM_SEED = 1\n",
    "\n",
    "for demand in ('peak', 'off_peak'):\n",
    "    # heuristic\n",
    "    for i in range(len(alphas)):\n",
    "        scenario_name = f'heuristic_{float_to_str(alphas[i])}'\n",
    "        np.random.seed(RANDOM_SEED)\n",
    "        tmp_history = evaluate_heuristic(\n",
    "            alpha=alphas[i], beta=HEURISTIC_BETA, n_episodes=N_EPISODES, \n",
    "            output_history=True,\n",
    "            scenario_name=scenario_name, demand_scenario=demand)\n",
    "        # for ky in tmp_history:\n",
    "        #     if ky not in main_history:\n",
    "        #         main_history[ky] = []\n",
    "        #     tmp_history[ky]['demand'] = demand\n",
    "        #     main_history[ky].append(tmp_history[ky])"
   ]
  },
  {
   "cell_type": "code",
   "execution_count": null,
   "metadata": {},
   "outputs": [],
   "source": []
  }
 ],
 "metadata": {
  "kernelspec": {
   "display_name": "rl-bus",
   "language": "python",
   "name": "python3"
  },
  "language_info": {
   "codemirror_mode": {
    "name": "ipython",
    "version": 3
   },
   "file_extension": ".py",
   "mimetype": "text/x-python",
   "name": "python",
   "nbconvert_exporter": "python",
   "pygments_lexer": "ipython3",
   "version": "3.11.5"
  }
 },
 "nbformat": 4,
 "nbformat_minor": 2
}
