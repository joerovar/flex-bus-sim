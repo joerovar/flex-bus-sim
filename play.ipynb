{
 "cells": [
  {
   "cell_type": "code",
   "execution_count": 5,
   "metadata": {},
   "outputs": [],
   "source": [
    "from objects import EnvironmentManager\n",
    "import random"
   ]
  },
  {
   "cell_type": "code",
   "execution_count": 6,
   "metadata": {},
   "outputs": [],
   "source": [
    "env = EnvironmentManager()\n",
    "env.start_vehicles()\n",
    "env.route.load_all_pax()"
   ]
  },
  {
   "cell_type": "code",
   "execution_count": 7,
   "metadata": {},
   "outputs": [
    {
     "name": "stdout",
     "output_type": "stream",
     "text": [
      "Vehicle 0\n",
      "Scheduled time: 300, Arrival time: 202.0, Deviation: -98.0\n",
      "Vehicle 0\n",
      "Scheduled time: 600, Arrival time: 443.0, Deviation: -157.0\n",
      "Vehicle 0\n",
      "Scheduled time: 900, Arrival time: 764.0, Deviation: -136.0\n"
     ]
    },
    {
     "data": {
      "text/plain": [
       "([0, 2, 743.0, 71.0],\n",
       " nan,\n",
       " 0,\n",
       " 0,\n",
       " {'skipped_requests': 0,\n",
       "  'off_schedule_trips': 0,\n",
       "  'time': 835.0,\n",
       "  'veh_idx': 1,\n",
       "  'direction': 'out'})"
      ]
     },
     "execution_count": 7,
     "metadata": {},
     "output_type": "execute_result"
    }
   ],
   "source": [
    "env.step()"
   ]
  },
  {
   "cell_type": "code",
   "execution_count": 40,
   "metadata": {},
   "outputs": [
    {
     "name": "stdout",
     "output_type": "stream",
     "text": [
      "Vehicle 1\n",
      "Scheduled time: 5700, Arrival time: 5775.0, Deviation: 75.0\n"
     ]
    },
    {
     "data": {
      "text/plain": [
       "([1, 1, 630.0, 75.0],\n",
       " -4.0,\n",
       " 0,\n",
       " 0,\n",
       " {'skipped_requests': 0,\n",
       "  'off_schedule_trips': 1,\n",
       "  'time': 5785.0,\n",
       "  'veh_idx': 1,\n",
       "  'direction': 'out'})"
      ]
     },
     "execution_count": 40,
     "metadata": {},
     "output_type": "execute_result"
    }
   ],
   "source": [
    "env.step(action=0)"
   ]
  },
  {
   "cell_type": "code",
   "execution_count": 41,
   "metadata": {},
   "outputs": [
    {
     "name": "stdout",
     "output_type": "stream",
     "text": [
      "Vehicle 1\n",
      "Scheduled time: 6000, Arrival time: 6067.0, Deviation: 67.0\n"
     ]
    },
    {
     "data": {
      "text/plain": [
       "([0, 0, 575.0, 44.0],\n",
       " -1.0,\n",
       " 0,\n",
       " 0,\n",
       " {'skipped_requests': 1,\n",
       "  'off_schedule_trips': 0,\n",
       "  'time': 6204.0,\n",
       "  'veh_idx': 0,\n",
       "  'direction': 'out'})"
      ]
     },
     "execution_count": 41,
     "metadata": {},
     "output_type": "execute_result"
    }
   ],
   "source": [
    "env.step(action=0)"
   ]
  },
  {
   "cell_type": "code",
   "execution_count": null,
   "metadata": {},
   "outputs": [],
   "source": []
  }
 ],
 "metadata": {
  "kernelspec": {
   "display_name": "rl-bus",
   "language": "python",
   "name": "python3"
  },
  "language_info": {
   "codemirror_mode": {
    "name": "ipython",
    "version": 3
   },
   "file_extension": ".py",
   "mimetype": "text/x-python",
   "name": "python",
   "nbconvert_exporter": "python",
   "pygments_lexer": "ipython3",
   "version": "3.11.5"
  }
 },
 "nbformat": 4,
 "nbformat_minor": 2
}
