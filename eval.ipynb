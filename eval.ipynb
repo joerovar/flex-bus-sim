{
 "cells": [
  {
   "cell_type": "code",
   "execution_count": 21,
   "id": "454332e0",
   "metadata": {},
   "outputs": [],
   "source": [
    "import pandas as pd"
   ]
  },
  {
   "cell_type": "code",
   "execution_count": 22,
   "id": "57c49aef",
   "metadata": {},
   "outputs": [],
   "source": [
    "from eval import evaluate_heuristic"
   ]
  },
  {
   "cell_type": "code",
   "execution_count": 25,
   "id": "f0537790",
   "metadata": {},
   "outputs": [],
   "source": [
    "from training_claude import load_agent, evaluate_agent\n",
    "from rl_env import FlexSimEnv"
   ]
  },
  {
   "cell_type": "code",
   "execution_count": 77,
   "id": "4a55a0f1",
   "metadata": {},
   "outputs": [
    {
     "name": "stdout",
     "output_type": "stream",
     "text": [
      "{'mean_reward': -0.576, 'std_reward': 1.196, 'deviation_opportunities': 40.4, 'deviations': 27.8, 'avg_picked_requests': 1.7, 'early_trips': 4.6, 'late_trips': 1.9}\n",
      "{'mean_reward': -0.699, 'std_reward': 1.3, 'deviation_opportunities': 39.4, 'deviations': 22.5, 'avg_picked_requests': 1.9, 'early_trips': 6.1, 'late_trips': 1.6}\n",
      "{'mean_reward': -0.527, 'std_reward': 1.203, 'deviation_opportunities': 39.4, 'deviations': 29.5, 'avg_picked_requests': 1.6, 'early_trips': 4.6, 'late_trips': 2.0}\n"
     ]
    }
   ],
   "source": [
    "main_history = {\n",
    "    'pax': [],\n",
    "    'state': [],\n",
    "    'vehicles': [],\n",
    "    'idle': [],\n",
    "}\n",
    "\n",
    "# slope scenarios\n",
    "slopes = [1.0, 2.0, 3.0]\n",
    "slope_scenario_names = ['slope_1', 'slope_2', 'slope_3']\n",
    "\n",
    "for i in range(len(slopes)):\n",
    "    tmp_history = evaluate_heuristic(\n",
    "        slope=slopes[i], n_episodes=30, \n",
    "        output_history=True,\n",
    "        scenario_name=slope_scenario_names[i])\n",
    "    for ky in tmp_history:\n",
    "        if ky not in main_history:\n",
    "            main_history[ky] = []\n",
    "        main_history[ky].append(tmp_history[ky])\n",
    "\n",
    "# RL scenarios\n",
    "\n",
    "model_paths = ['models/dqn_weight_2.pth',\n",
    "               'models/dqn_weight_2_5.pth',\n",
    "               'models/dqn_weight_3.pth',]\n",
    "scenario_names = [\n",
    "    'dqn_2',\n",
    "    'dqn_2_5',\n",
    "    'dqn_3',\n",
    "]\n",
    "env = FlexSimEnv()\n",
    "for i in range(len(model_paths)):\n",
    "    tmp_agent = load_agent(model_paths[i])\n",
    "    tmp_history, tmp_summary = evaluate_agent(\n",
    "    env, tmp_agent, num_episodes=30, output_history=True,\n",
    "    scenario_name=scenario_names[i])\n",
    "    print(tmp_summary)\n",
    "    for ky in tmp_history:\n",
    "        if ky not in main_history:\n",
    "            main_history[ky] = []\n",
    "        main_history[ky].append(tmp_history[ky])"
   ]
  },
  {
   "cell_type": "markdown",
   "id": "91ab70e9",
   "metadata": {},
   "source": [
    "## Bring together"
   ]
  },
  {
   "cell_type": "code",
   "execution_count": 78,
   "id": "5f979793",
   "metadata": {},
   "outputs": [],
   "source": [
    "history_merged = {}\n",
    "# now concatenate within each main key\n",
    "for ky in main_history.keys():\n",
    "    history_merged[ky] = pd.concat(main_history[ky], axis=0)"
   ]
  },
  {
   "cell_type": "code",
   "execution_count": 82,
   "id": "e3e80dba",
   "metadata": {},
   "outputs": [],
   "source": [
    "pax = history_merged['pax'].copy()\n",
    "# pax = pax[pax['scenario']!='agent_2']\n",
    "pax['arrival_hour'] = (pax['arrival_time']/3600).astype(int)\n",
    "pax['denied'] = (pax['boarding_time'].isna().astype(int)) & (pax['flex'] == 1)"
   ]
  },
  {
   "cell_type": "code",
   "execution_count": 83,
   "id": "77cadfc9",
   "metadata": {},
   "outputs": [
    {
     "data": {
      "text/plain": [
       "scenario  arrival_hour\n",
       "dqn_2     0               615.00\n",
       "          1               602.05\n",
       "          2               593.00\n",
       "dqn_2_5   0               607.10\n",
       "          1               607.00\n",
       "          2               609.00\n",
       "          3                26.00\n",
       "dqn_3     0               623.00\n",
       "          1               600.00\n",
       "          2               606.65\n",
       "slope_1   0               619.15\n",
       "          1               615.25\n",
       "          2               606.00\n",
       "slope_2   0               624.50\n",
       "          1               605.40\n",
       "          2               606.00\n",
       "slope_3   0               607.00\n",
       "          1               603.00\n",
       "          2               585.90\n",
       "Name: wait_time, dtype: float64"
      ]
     },
     "execution_count": 83,
     "metadata": {},
     "output_type": "execute_result"
    }
   ],
   "source": [
    "pax.groupby(['scenario', 'arrival_hour'])['wait_time'].quantile(0.95)"
   ]
  },
  {
   "cell_type": "code",
   "execution_count": 84,
   "id": "68f74423",
   "metadata": {},
   "outputs": [
    {
     "data": {
      "text/plain": [
       "scenario  arrival_hour\n",
       "dqn_2     0               124\n",
       "          1               108\n",
       "          2                78\n",
       "dqn_2_5   0               132\n",
       "          1               142\n",
       "          2               106\n",
       "          3                 0\n",
       "dqn_3     0                87\n",
       "          1                91\n",
       "          2                59\n",
       "slope_1   0                24\n",
       "          1                22\n",
       "          2                28\n",
       "slope_2   0                50\n",
       "          1                57\n",
       "          2                21\n",
       "slope_3   0                54\n",
       "          1                56\n",
       "          2                40\n",
       "Name: denied, dtype: int64"
      ]
     },
     "execution_count": 84,
     "metadata": {},
     "output_type": "execute_result"
    }
   ],
   "source": [
    "pax.groupby(['scenario', 'arrival_hour'])['denied'].sum()"
   ]
  },
  {
   "cell_type": "code",
   "execution_count": null,
   "id": "f88b2b1e",
   "metadata": {},
   "outputs": [],
   "source": []
  }
 ],
 "metadata": {
  "kernelspec": {
   "display_name": "rl-bus",
   "language": "python",
   "name": "python3"
  },
  "language_info": {
   "codemirror_mode": {
    "name": "ipython",
    "version": 3
   },
   "file_extension": ".py",
   "mimetype": "text/x-python",
   "name": "python",
   "nbconvert_exporter": "python",
   "pygments_lexer": "ipython3",
   "version": "3.11.5"
  }
 },
 "nbformat": 4,
 "nbformat_minor": 5
}
