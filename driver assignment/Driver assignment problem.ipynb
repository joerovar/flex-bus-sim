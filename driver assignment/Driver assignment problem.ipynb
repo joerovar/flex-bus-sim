{
 "cells": [
  {
   "cell_type": "code",
   "execution_count": 5,
   "id": "915c9c5b-9643-49dc-ba81-3a9c1ca20e05",
   "metadata": {
    "execution": {
     "iopub.execute_input": "2024-07-07T16:01:31.317542Z",
     "iopub.status.busy": "2024-07-07T16:01:31.316988Z",
     "iopub.status.idle": "2024-07-07T16:01:31.323673Z",
     "shell.execute_reply": "2024-07-07T16:01:31.322572Z",
     "shell.execute_reply.started": "2024-07-07T16:01:31.317503Z"
    }
   },
   "outputs": [],
   "source": [
    "import gurobipy as gp\n",
    "from gurobipy import GRB\n",
    "import numpy as np\n",
    "from scipy.stats import norm\n",
    "import matplotlib.pyplot as plt\n",
    "#norm.pdf(1, loc=0, scale=1)\n",
    "#norm.cdf(1, loc=0, scale=1)\n",
    "\n",
    "\n",
    "\n",
    "#gurobi key\n",
    "options = {\n",
    "    \"WLSACCESSID\": \"26723063-59e7-4db9-a398-64f6ecd04b77\",\n",
    "    \"WLSSECRET\": \"ab43d24e-de8d-46d9-9653-7e29d5de83e6\",\n",
    "    \"LICENSEID\": 2465782,\n",
    "}"
   ]
  },
  {
   "cell_type": "code",
   "execution_count": 96,
   "id": "61cc9f12-3540-4596-98ef-2cbedf8dd6f6",
   "metadata": {
    "execution": {
     "iopub.execute_input": "2024-07-10T17:07:24.563522Z",
     "iopub.status.busy": "2024-07-10T17:07:24.562965Z",
     "iopub.status.idle": "2024-07-10T17:07:24.590153Z",
     "shell.execute_reply": "2024-07-10T17:07:24.589072Z",
     "shell.execute_reply.started": "2024-07-10T17:07:24.563481Z"
    }
   },
   "outputs": [],
   "source": [
    "# data preparation\n",
    "#set\n",
    "M,N= 35, 15 \n",
    "I=list(range(M))\n",
    "J=list(range(N))\n",
    "\n",
    "\n",
    "#parameter\n",
    "headway_sched=6\n",
    "sigma_sched=2\n",
    "\n",
    "# delta_stop= np.random.normal(loc=3, scale=1, size=20)\n",
    "# delta_stop[delta_stop < 1] = 1\n",
    "# delta_stop = np.round(delta_stop).astype(int).tolist()\n",
    "delta_stop=[2, 1, 3, 4, 2, 3, 4, 3, 3, 4, 3, 2, 2, 4, 3, 2, 2, 5, 3, 2, 3, 3, 3, 2, 1, 2, 3, 2, 1, 2, 4, 3, 4, 5, 3, 4, 3, 3, 4, 3, 3, 2, 3, 2, 4, 2, 2, 2, 1, 2, 2, 3, 3, 3, 5, 4, 4, 4, 3, 3, 2, 4, 3, 4, 2, 2, 2, 3, 3, 3, 3, 2, 2, 5, 1, 3, 2, 5, 3, 3, 3, 1, 3, 4, 1, 3, 4, 4, 4, 4, 4, 2, 4, 4, 3, 3, 2, 4, 2, 2, 1, 3, 2, 3, 1, 1, 5, 3, 1, 3, 2, 2, 4, 5, 1, 3, 2, 3, 2, 3, 4, 3, 1, 2, 3, 2, 4, 2, 2, 3, 3, 5, 2, 2, 5, 3, 3, 2, 3, 3]\n",
    "pos_stop=[0]\n",
    "i=0\n",
    "while i<M-1:\n",
    "    pos_stop.append(pos_stop[-1]+delta_stop[i])\n",
    "    i+=1\n",
    "\n",
    "\n",
    "# N_w=np.random.normal(loc=20, scale=12, size=M)\n",
    "# N_w[N_w < 0] = 0\n",
    "# N_w = np.round(N_w).astype(int).tolist()\n",
    "N_w=[31, 30, 20, 29, 20, 18, 18, 20, 29, 14, 0, 14, 27, 8, 19, 1, 30, 17, 30, 26, 19, 26, 2, 7, 22, 10, 25, 8, 4, 0, 32, 14, 0, 36, 29, 11, 19, 1, 11, 8, 9, 21, 0, 42, 18, 21, 9, 7, 2, 1, 15, 0, 26, 7, 17, 45, 32, 10, 29, 26, 29, 19, 8, 19, 18, 28, 20, 34, 15, 24, 9, 19, 23, 14, 33, 35, 36, 12, 18, 18, 16, 29, 20, 11, 20, 0, 8, 25, 33, 35, 25, 8, 7, 19, 53, 22, 34, 34, 22, 37, 31, 20, 8, 35, 0, 30, 38, 27, 11, 15, 2, 27, 9, 38, 19, 29, 26, 18, 3, 10, 32, 26, 10, 28, 12, 21, 55, 16, 23, 24, 15, 41, 5, 12, 21, 3, 27, 17, 5, 21]\n",
    "N_w=N_w[:M]\n",
    "capacity=50\n",
    "N_f=[0 if i <capacity else i-capacity  for i in N_w]\n",
    "N_w=[50 if i>capacity else i for i in N_w]\n",
    "\n",
    "control_stop=np.array(N_w).argsort().tolist()[::-1][:][:7]\n"
   ]
  },
  {
   "cell_type": "code",
   "execution_count": null,
   "id": "62d5bcf7-dfab-403c-92f2-d564eec73c58",
   "metadata": {},
   "outputs": [],
   "source": []
  },
  {
   "cell_type": "code",
   "execution_count": null,
   "id": "f10c2eff-008c-4441-8302-cb2ca3cab670",
   "metadata": {},
   "outputs": [],
   "source": []
  },
  {
   "cell_type": "code",
   "execution_count": null,
   "id": "e72eae44-63d1-4385-8b0a-638879a42790",
   "metadata": {},
   "outputs": [],
   "source": [
    "#MP formulation\n",
    "\n",
    "\n",
    "with gp.Env(params=options) as env, gp.Model(env=env) as model:\n",
    "    # parameter\n",
    "    Sigma=model.addVars(J[0:], lb=0, name=\"Sigma\")\n",
    "    Mu=model.addVars(J[0:], lb=0,  name=\"Mu\")\n",
    "\n",
    "    sigma=model.addVars(J, lb=0, name=\"sigma\")\n",
    "    mu=model.addVars(J, lb=0,  name=\"mu\")\n"
   ]
  }
 ],
 "metadata": {
  "kernelspec": {
   "display_name": "Python 3 (ipykernel)",
   "language": "python",
   "name": "python3"
  },
  "language_info": {
   "codemirror_mode": {
    "name": "ipython",
    "version": 3
   },
   "file_extension": ".py",
   "mimetype": "text/x-python",
   "name": "python",
   "nbconvert_exporter": "python",
   "pygments_lexer": "ipython3",
   "version": "3.8.18"
  }
 },
 "nbformat": 4,
 "nbformat_minor": 5
}
