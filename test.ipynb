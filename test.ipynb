{
 "cells": [
  {
   "cell_type": "code",
   "execution_count": 1,
   "metadata": {},
   "outputs": [],
   "source": [
    "from objects import RouteManager, EventManager\n",
    "from helpers import *"
   ]
  },
  {
   "cell_type": "code",
   "execution_count": 2,
   "metadata": {},
   "outputs": [],
   "source": [
    "route = RouteManager()\n",
    "event = EventManager()\n",
    "event.start_vehicles(route)"
   ]
  },
  {
   "cell_type": "code",
   "execution_count": 3,
   "metadata": {},
   "outputs": [
    {
     "data": {
      "text/plain": [
       "{'last': {'time': None, 'type': None, 'stop': None},\n",
       " 'next': {'time': 600, 'type': 'arrive', 'stop': 0}}"
      ]
     },
     "execution_count": 3,
     "metadata": {},
     "output_type": "execute_result"
    }
   ],
   "source": [
    "route.vehicles[1].event"
   ]
  },
  {
   "cell_type": "code",
   "execution_count": 4,
   "metadata": {},
   "outputs": [],
   "source": [
    "step_count = 0\n",
    "while step_count < 50:\n",
    "    event.step(route)\n",
    "    step_count += 1"
   ]
  },
  {
   "cell_type": "code",
   "execution_count": 5,
   "metadata": {},
   "outputs": [
    {
     "data": {
      "text/plain": [
       "{'last': {'time': 5340.0, 'type': 'arrive', 'stop': 4},\n",
       " 'next': {'time': 6000, 'type': 'arrive', 'stop': 0}}"
      ]
     },
     "execution_count": 5,
     "metadata": {},
     "output_type": "execute_result"
    }
   ],
   "source": [
    "route.vehicles[0].event"
   ]
  },
  {
   "cell_type": "code",
   "execution_count": 6,
   "metadata": {},
   "outputs": [
    {
     "data": {
      "text/plain": [
       "[0,\n",
       " 0,\n",
       " 90.0,\n",
       " 180.0,\n",
       " 270.0,\n",
       " 600,\n",
       " 690.0,\n",
       " 780.0,\n",
       " 870.0,\n",
       " 2400,\n",
       " 2490.0,\n",
       " 2580.0,\n",
       " 2670.0,\n",
       " 2670.0,\n",
       " 2760.0,\n",
       " 2850.0,\n",
       " 2940.0,\n",
       " 3000,\n",
       " 3090.0,\n",
       " 3180.0,\n",
       " 3270.0,\n",
       " 3270.0,\n",
       " 3360.0,\n",
       " 3450.0,\n",
       " 3540.0,\n",
       " 3600,\n",
       " 3690.0,\n",
       " 3780.0,\n",
       " 3870.0,\n",
       " 3870.0,\n",
       " 3960.0,\n",
       " 4050.0,\n",
       " 4140.0,\n",
       " 4200,\n",
       " 4290.0,\n",
       " 4380.0,\n",
       " 4470.0,\n",
       " 4470.0,\n",
       " 4560.0,\n",
       " 4650.0,\n",
       " 4740.0,\n",
       " 4800,\n",
       " 4890.0,\n",
       " 4980.0,\n",
       " 5070.0,\n",
       " 5070.0,\n",
       " 5160.0,\n",
       " 5250.0,\n",
       " 5340.0,\n",
       " 5400,\n",
       " 5490.0]"
      ]
     },
     "execution_count": 6,
     "metadata": {},
     "output_type": "execute_result"
    }
   ],
   "source": [
    "event.timestamps"
   ]
  },
  {
   "cell_type": "code",
   "execution_count": 7,
   "metadata": {},
   "outputs": [],
   "source": [
    "event.step(route)"
   ]
  },
  {
   "cell_type": "code",
   "execution_count": 8,
   "metadata": {},
   "outputs": [],
   "source": [
    "event.step(route)"
   ]
  },
  {
   "cell_type": "code",
   "execution_count": 9,
   "metadata": {},
   "outputs": [
    {
     "data": {
      "text/plain": [
       "[0,\n",
       " 0,\n",
       " 90.0,\n",
       " 180.0,\n",
       " 270.0,\n",
       " 600,\n",
       " 690.0,\n",
       " 780.0,\n",
       " 870.0,\n",
       " 2400,\n",
       " 2490.0,\n",
       " 2580.0,\n",
       " 2670.0,\n",
       " 2670.0,\n",
       " 2760.0,\n",
       " 2850.0,\n",
       " 2940.0,\n",
       " 3000,\n",
       " 3090.0,\n",
       " 3180.0,\n",
       " 3270.0,\n",
       " 3270.0,\n",
       " 3360.0,\n",
       " 3450.0,\n",
       " 3540.0,\n",
       " 3600,\n",
       " 3690.0,\n",
       " 3780.0,\n",
       " 3870.0,\n",
       " 3870.0,\n",
       " 3960.0,\n",
       " 4050.0,\n",
       " 4140.0,\n",
       " 4200,\n",
       " 4290.0,\n",
       " 4380.0,\n",
       " 4470.0,\n",
       " 4470.0,\n",
       " 4560.0,\n",
       " 4650.0,\n",
       " 4740.0,\n",
       " 4800,\n",
       " 4890.0,\n",
       " 4980.0,\n",
       " 5070.0,\n",
       " 5070.0,\n",
       " 5160.0,\n",
       " 5250.0,\n",
       " 5340.0,\n",
       " 5400,\n",
       " 5490.0,\n",
       " 5580.0,\n",
       " 5670.0]"
      ]
     },
     "execution_count": 9,
     "metadata": {},
     "output_type": "execute_result"
    }
   ],
   "source": [
    "event.timestamps"
   ]
  },
  {
   "cell_type": "code",
   "execution_count": 10,
   "metadata": {},
   "outputs": [
    {
     "data": {
      "text/plain": [
       "[]"
      ]
     },
     "execution_count": 10,
     "metadata": {},
     "output_type": "execute_result"
    }
   ],
   "source": [
    "route.vehicles[0].pax"
   ]
  },
  {
   "cell_type": "code",
   "execution_count": 11,
   "metadata": {},
   "outputs": [
    {
     "data": {
      "text/plain": [
       "[]"
      ]
     },
     "execution_count": 11,
     "metadata": {},
     "output_type": "execute_result"
    }
   ],
   "source": [
    "route.stops['in'][0].active_pax"
   ]
  },
  {
   "cell_type": "code",
   "execution_count": 12,
   "metadata": {},
   "outputs": [
    {
     "data": {
      "text/plain": [
       "[]"
      ]
     },
     "execution_count": 12,
     "metadata": {},
     "output_type": "execute_result"
    }
   ],
   "source": [
    "route.vehicles[0].pax"
   ]
  },
  {
   "cell_type": "code",
   "execution_count": 13,
   "metadata": {},
   "outputs": [
    {
     "data": {
      "text/plain": [
       "[600, 1200, 1800, 2400, 3000, 3600, 4200, 4800, 5400, 6000]"
      ]
     },
     "execution_count": 13,
     "metadata": {},
     "output_type": "execute_result"
    }
   ],
   "source": [
    "route.schedule.deps['in'][:10]"
   ]
  },
  {
   "cell_type": "code",
   "execution_count": null,
   "metadata": {},
   "outputs": [],
   "source": []
  }
 ],
 "metadata": {
  "kernelspec": {
   "display_name": "bus",
   "language": "python",
   "name": "python3"
  },
  "language_info": {
   "codemirror_mode": {
    "name": "ipython",
    "version": 3
   },
   "file_extension": ".py",
   "mimetype": "text/x-python",
   "name": "python",
   "nbconvert_exporter": "python",
   "pygments_lexer": "ipython3",
   "version": "3.11.5"
  }
 },
 "nbformat": 4,
 "nbformat_minor": 2
}
