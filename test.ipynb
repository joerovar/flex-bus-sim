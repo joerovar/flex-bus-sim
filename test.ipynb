{
 "cells": [
  {
   "cell_type": "code",
   "execution_count": 1,
   "metadata": {},
   "outputs": [],
   "source": [
    "from objects import EnvironmentManager\n",
    "from helpers import *\n",
    "\n",
    "env = EnvironmentManager()\n",
    "env.start_vehicles()\n",
    "env.route.load_all_pax()\n",
    "\n",
    "observation, reward, terminated, truncated, info = env.step(action=None)\n",
    "while not terminated:\n",
    "    action = get_action('RA')\n",
    "    observation, reward, terminated, truncated, info = env.step(action=action)\n",
    "\n",
    "history = env.get_history()\n",
    "# for key in history:\n",
    "#     history[key]['scenario'] = scenario\n",
    "#     history[key]['episode'] = i\n",
    "#     results[key].append(history[key])"
   ]
  },
  {
   "cell_type": "code",
   "execution_count": 35,
   "metadata": {},
   "outputs": [],
   "source": [
    "from rl_env import FlexSimEnv\n",
    "import numpy as np"
   ]
  },
  {
   "cell_type": "code",
   "execution_count": 36,
   "metadata": {},
   "outputs": [],
   "source": [
    "rl_env  = FlexSimEnv()"
   ]
  },
  {
   "cell_type": "code",
   "execution_count": 46,
   "metadata": {},
   "outputs": [
    {
     "data": {
      "text/plain": [
       "({'control_stop_idx': array([0], dtype=int32),\n",
       "  'n_requests': array([1], dtype=int32),\n",
       "  'headway': array([563.], dtype=float32),\n",
       "  'schedule_deviation': array([-56.], dtype=float32)},\n",
       " {'lost_requests': 0,\n",
       "  'off_schedule_trips': 0,\n",
       "  'total_trips': 0,\n",
       "  'time': 706.0,\n",
       "  'veh_idx': 1,\n",
       "  'direction': 'out'})"
      ]
     },
     "execution_count": 46,
     "metadata": {},
     "output_type": "execute_result"
    }
   ],
   "source": [
    "rl_env.reset()"
   ]
  },
  {
   "cell_type": "code",
   "execution_count": 59,
   "metadata": {},
   "outputs": [
    {
     "data": {
      "text/plain": [
       "({'control_stop_idx': array([3], dtype=int32),\n",
       "  'n_requests': array([1], dtype=int32),\n",
       "  'headway': array([506.], dtype=float32),\n",
       "  'schedule_deviation': array([-33.], dtype=float32)},\n",
       " 0.0,\n",
       " 0,\n",
       " 0,\n",
       " {'lost_requests': 0,\n",
       "  'off_schedule_trips': 0,\n",
       "  'total_trips': 0,\n",
       "  'time': 3877.0,\n",
       "  'veh_idx': 1,\n",
       "  'direction': 'in'})"
      ]
     },
     "execution_count": 59,
     "metadata": {},
     "output_type": "execute_result"
    }
   ],
   "source": [
    "rl_env.step(action=1)"
   ]
  },
  {
   "cell_type": "code",
   "execution_count": 1,
   "metadata": {},
   "outputs": [
    {
     "data": {
      "text/plain": [
       "{'lost_requests': -1.0, 'off_schedule_trips': -1.0}"
      ]
     },
     "execution_count": 1,
     "metadata": {},
     "output_type": "execute_result"
    }
   ],
   "source": [
    "from params import REWARD_WEIGHTS\n",
    "REWARD_WEIGHTS"
   ]
  },
  {
   "cell_type": "code",
   "execution_count": 1,
   "metadata": {},
   "outputs": [
    {
     "name": "stdout",
     "output_type": "stream",
     "text": [
      "Training with shared policy...\n",
      "Episode 0/500, Avg Score: -2.42, Epsilon: 1.0000\n",
      "Episode 20/500, Avg Score: -2.06, Epsilon: 0.8302\n",
      "Episode 40/500, Avg Score: -1.82, Epsilon: 0.6865\n",
      "Episode 60/500, Avg Score: -2.33, Epsilon: 0.5688\n",
      "Episode 80/500, Avg Score: -2.59, Epsilon: 0.4788\n",
      "Episode 100/500, Avg Score: -2.42, Epsilon: 0.3999\n",
      "Episode 120/500, Avg Score: -2.53, Epsilon: 0.3384\n",
      "Episode 140/500, Avg Score: -2.27, Epsilon: 0.2866\n",
      "Episode 160/500, Avg Score: -2.19, Epsilon: 0.2418\n",
      "Episode 180/500, Avg Score: -2.60, Epsilon: 0.2044\n",
      "Episode 200/500, Avg Score: -2.65, Epsilon: 0.1752\n",
      "Episode 220/500, Avg Score: -2.47, Epsilon: 0.1482\n",
      "Episode 240/500, Avg Score: -2.71, Epsilon: 0.1264\n",
      "Episode 260/500, Avg Score: -2.27, Epsilon: 0.1069\n",
      "Episode 280/500, Avg Score: -2.55, Epsilon: 0.0917\n",
      "Episode 300/500, Avg Score: -2.84, Epsilon: 0.0783\n",
      "Episode 320/500, Avg Score: -2.40, Epsilon: 0.0674\n",
      "Episode 340/500, Avg Score: -2.89, Epsilon: 0.0578\n",
      "Episode 360/500, Avg Score: -2.19, Epsilon: 0.0500\n",
      "Episode 380/500, Avg Score: -2.50, Epsilon: 0.0500\n",
      "Episode 400/500, Avg Score: -2.53, Epsilon: 0.0500\n",
      "Episode 420/500, Avg Score: -2.70, Epsilon: 0.0500\n",
      "Episode 440/500, Avg Score: -2.92, Epsilon: 0.0500\n",
      "Episode 460/500, Avg Score: -2.55, Epsilon: 0.0500\n",
      "Episode 480/500, Avg Score: -2.70, Epsilon: 0.0500\n",
      "\n",
      "Evaluating trained agent...\n",
      "Evaluation Episode 1: Reward = -1.94\n",
      "Evaluation Episode 2: Reward = -1.24\n",
      "Evaluation Episode 3: Reward = -2.03\n",
      "Evaluation Episode 4: Reward = -1.05\n",
      "Evaluation Episode 5: Reward = -1.26\n",
      "Evaluation Episode 6: Reward = -2.33\n",
      "Evaluation Episode 7: Reward = -3.08\n",
      "Evaluation Episode 8: Reward = -2.31\n",
      "Evaluation Episode 9: Reward = -1.81\n",
      "Evaluation Episode 10: Reward = -3.49\n",
      "\n",
      "Training complete! Final average reward: -2.72\n",
      "Model saved as 'shared_dqn_agent.pth'\n"
     ]
    }
   ],
   "source": [
    "# train\n",
    "from training_claude import train_vehicles\n",
    "\n",
    "agent, scores = train_vehicles(reward_weights={'off_schedule_trips': -2.5, 'lost_requests': -1.0})"
   ]
  },
  {
   "cell_type": "code",
   "execution_count": 22,
   "metadata": {},
   "outputs": [
    {
     "name": "stdout",
     "output_type": "stream",
     "text": [
      "For state {'control_stop_idx': array([3]), 'n_requests': array([2]), 'headway': array([600.5]), 'schedule_deviation': array([400.2])}, the model recommends action: 0\n"
     ]
    }
   ],
   "source": [
    "from training_claude import load_agent\n",
    "import numpy as np\n",
    "\n",
    "# Example of loading and using the model\n",
    "loaded_agent = load_agent('shared_dqn_agent.pth')\n",
    "\n",
    "# Example of getting an action from a state\n",
    "# The state should be a dictionary with the expected keys\n",
    "state = {\n",
    "    \"control_stop_idx\": np.array([3]),      # Make sure this is an array\n",
    "    \"n_requests\": np.array([2]),            # Make sure this is an array\n",
    "    \"headway\": np.array([600.5]),            # Make sure this is an array\n",
    "    \"schedule_deviation\": np.array([400.2])  # Make sure this is an array\n",
    "}\n",
    "vehicle_idx = 0  # Example vehicle index\n",
    "\n",
    "# Get action from loaded model\n",
    "action = loaded_agent.act(state, veh_idx=vehicle_idx, eval_mode=True)\n",
    "print(f\"For state {state}, the model recommends action: {action}\")"
   ]
  },
  {
   "cell_type": "code",
   "execution_count": 31,
   "metadata": {},
   "outputs": [],
   "source": [
    "from rl_env import FlexSimEnv"
   ]
  },
  {
   "cell_type": "code",
   "execution_count": 32,
   "metadata": {},
   "outputs": [],
   "source": [
    "recorded_actions = []\n",
    "recorded_observations = []\n",
    "rl_env = FlexSimEnv()\n",
    "\n",
    "observation, info = rl_env.reset()\n",
    "vehicle_idx = info['veh_idx']\n",
    "action = loaded_agent.act(observation, vehicle_idx, eval_mode=True)\n",
    "\n",
    "observation, reward, terminated, truncated, info = rl_env.step(action=action)\n",
    "while not terminated:\n",
    "    # Use the loaded agent to predict the action based on current observation\n",
    "    action = loaded_agent.act(observation, vehicle_idx, eval_mode=True)\n",
    "    recorded_actions.append(action)\n",
    "    recorded_observations.append(observation)\n",
    "    observation, reward, terminated, truncated, info = rl_env.step(action=action)"
   ]
  },
  {
   "cell_type": "code",
   "execution_count": 34,
   "metadata": {},
   "outputs": [
    {
     "name": "stdout",
     "output_type": "stream",
     "text": [
      "{'lost_requests': 0, 'off_schedule_trips': 2, 'total_trips': 0}\n",
      "{'lost_requests': 3, 'off_schedule_trips': 8, 'total_trips': 0}\n"
     ]
    }
   ],
   "source": [
    "for item in rl_env.env.route.inter_event:\n",
    "    print(item)"
   ]
  },
  {
   "cell_type": "code",
   "execution_count": 28,
   "metadata": {},
   "outputs": [],
   "source": [
    "zero_idxs = [i for i in range(len(recorded_actions)) if recorded_actions[i] == 0]"
   ]
  },
  {
   "cell_type": "code",
   "execution_count": 29,
   "metadata": {},
   "outputs": [
    {
     "data": {
      "text/plain": [
       "[]"
      ]
     },
     "execution_count": 29,
     "metadata": {},
     "output_type": "execute_result"
    }
   ],
   "source": [
    "zero_idxs"
   ]
  },
  {
   "cell_type": "code",
   "execution_count": 25,
   "metadata": {},
   "outputs": [
    {
     "data": {
      "text/plain": [
       "{'control_stop_idx': array([2], dtype=int32),\n",
       " 'n_requests': array([1], dtype=int32),\n",
       " 'headway': array([1109.], dtype=float32),\n",
       " 'schedule_deviation': array([541.], dtype=float32)}"
      ]
     },
     "execution_count": 25,
     "metadata": {},
     "output_type": "execute_result"
    }
   ],
   "source": [
    "recorded_observations[25]"
   ]
  },
  {
   "cell_type": "code",
   "execution_count": 38,
   "metadata": {},
   "outputs": [
    {
     "data": {
      "text/plain": [
       "{'control_stop_idx': array([3], dtype=int32),\n",
       " 'n_requests': array([1], dtype=int32),\n",
       " 'headway': array([1319.], dtype=float32),\n",
       " 'schedule_deviation': array([761.], dtype=float32)}"
      ]
     },
     "execution_count": 38,
     "metadata": {},
     "output_type": "execute_result"
    }
   ],
   "source": [
    "recorded_observations[21]"
   ]
  },
  {
   "cell_type": "code",
   "execution_count": 37,
   "metadata": {},
   "outputs": [
    {
     "data": {
      "text/plain": [
       "{'control_stop_idx': array([1], dtype=int32),\n",
       " 'n_requests': array([2], dtype=int32),\n",
       " 'headway': array([1149.], dtype=float32),\n",
       " 'schedule_deviation': array([647.], dtype=float32)}"
      ]
     },
     "execution_count": 37,
     "metadata": {},
     "output_type": "execute_result"
    }
   ],
   "source": [
    "recorded_observations[19]"
   ]
  },
  {
   "cell_type": "code",
   "execution_count": null,
   "metadata": {},
   "outputs": [],
   "source": [
    "rl_env = FlexSimEnv()\n",
    "\n",
    "observation, info = rl_env.reset()\n",
    "action = model.predict(observation, deterministic=True)\n",
    "action = int(action[0])\n",
    "observation, reward, terminated, truncated, info = rl_env.step(action=action)\n",
    "while not terminated:\n",
    "    # Use the loaded agent to predict the action based on current observation\n",
    "    action = model.predict(observation, deterministic=True)\n",
    "    action = int(action[0])\n",
    "    observation, reward, terminated, truncated, info = rl_env.step(action=action)\n",
    "\n",
    "history = rl_env.env.get_history()\n",
    "for key in history:\n",
    "    history[key]['scenario'] = 'RL_' + model_name\n",
    "    history[key]['episode'] = i\n",
    "    results[key].append(history[key])"
   ]
  }
 ],
 "metadata": {
  "kernelspec": {
   "display_name": "rl-bus",
   "language": "python",
   "name": "python3"
  },
  "language_info": {
   "codemirror_mode": {
    "name": "ipython",
    "version": 3
   },
   "file_extension": ".py",
   "mimetype": "text/x-python",
   "name": "python",
   "nbconvert_exporter": "python",
   "pygments_lexer": "ipython3",
   "version": "3.11.5"
  }
 },
 "nbformat": 4,
 "nbformat_minor": 2
}
