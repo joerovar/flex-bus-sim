{
 "cells": [
  {
   "cell_type": "code",
   "execution_count": 1,
   "metadata": {},
   "outputs": [],
   "source": [
    "from objects import EnvironmentManager\n",
    "from helpers import *\n",
    "\n",
    "env = EnvironmentManager()\n",
    "env.start_vehicles()\n",
    "env.route.load_all_pax()\n",
    "\n",
    "observation, reward, terminated, truncated, info = env.step(action=None)\n",
    "while not terminated:\n",
    "    action = get_action('RA')\n",
    "    observation, reward, terminated, truncated, info = env.step(action=action)\n",
    "\n",
    "history = env.get_history()\n",
    "# for key in history:\n",
    "#     history[key]['scenario'] = scenario\n",
    "#     history[key]['episode'] = i\n",
    "#     results[key].append(history[key])"
   ]
  },
  {
   "cell_type": "code",
   "execution_count": null,
   "metadata": {},
   "outputs": [],
   "source": []
  }
 ],
 "metadata": {
  "kernelspec": {
   "display_name": "rl-bus",
   "language": "python",
   "name": "python3"
  },
  "language_info": {
   "codemirror_mode": {
    "name": "ipython",
    "version": 3
   },
   "file_extension": ".py",
   "mimetype": "text/x-python",
   "name": "python",
   "nbconvert_exporter": "python",
   "pygments_lexer": "ipython3",
   "version": "3.11.5"
  }
 },
 "nbformat": 4,
 "nbformat_minor": 2
}
