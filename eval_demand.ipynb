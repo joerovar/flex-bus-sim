{
 "cells": [
  {
   "cell_type": "code",
   "execution_count": 2,
   "id": "8dd13b5a",
   "metadata": {},
   "outputs": [],
   "source": [
    "import numpy as np"
   ]
  },
  {
   "cell_type": "code",
   "execution_count": 3,
   "id": "5b8ce4e1",
   "metadata": {},
   "outputs": [],
   "source": [
    "def get_od_matrix(od_low, od_high):\n",
    "    od_matrix = [\n",
    "        [0, od_low, 0, od_high, 0, od_high, 0],\n",
    "        [0, 0, 0, od_low, 0, od_high, od_high],\n",
    "        [0, 0, 0, 0, 0, od_low, od_low], ## FLEX\n",
    "        [0, 0, 0, 0, 0, od_low, od_high],\n",
    "        [0, 0, 0, 0, 0, 0, od_low], ## FLEX\n",
    "        [0, 0, 0, 0, 0, 0, od_low]\n",
    "    ]\n",
    "    total_demand = np.sum(od_matrix)\n",
    "    total_boardings_per_stop = np.sum(od_matrix, axis=1)\n",
    "    flex_boardings = round(total_boardings_per_stop[2] + total_boardings_per_stop[4], 2)\n",
    "    pct_flex = flex_boardings / np.sum(total_boardings_per_stop) * 100\n",
    "    print(f\"Total demand: {round(total_demand,1)}\")\n",
    "    print(f\"Total boardings: {total_boardings_per_stop}\")\n",
    "    print(f\"Flex boardings: {flex_boardings}\")\n",
    "    print(f\"Percentage of flex boardings: {pct_flex:.2f}%\")"
   ]
  },
  {
   "cell_type": "code",
   "execution_count": null,
   "id": "6fa80ac0",
   "metadata": {},
   "outputs": [
    {
     "name": "stdout",
     "output_type": "stream",
     "text": [
      "Total demand: 60.1\n",
      "Total boardings: [19.  19.   5.6 10.9  2.8  2.8]\n",
      "Flex boardings: 8.4\n",
      "Percentage of flex boardings: 13.98%\n",
      "--------------------------------------\n",
      "Total demand: 58.9\n",
      "Total boardings: [16.  16.   8.4 10.1  4.2  4.2]\n",
      "Flex boardings: 12.6\n",
      "Percentage of flex boardings: 21.39%\n"
     ]
    }
   ],
   "source": [
    "# peak scenario\n",
    "OD_LOW = 1.9\n",
    "OD_HIGH = 8.1 # 11.3\n",
    "# off-peak scenario \n",
    "OD_LOW_OFF_PEAK = 4.2\n",
    "OD_HIGH_OFF_PEAK = 5.9\n",
    "\n",
    "get_od_matrix(OD_LOW, OD_HIGH)\n",
    "\n",
    "print('--------------------------------------')\n",
    "\n",
    "get_od_matrix(OD_LOW_OFF_PEAK, OD_HIGH_OFF_PEAK)"
   ]
  },
  {
   "cell_type": "code",
   "execution_count": null,
   "id": "44e147af",
   "metadata": {},
   "outputs": [],
   "source": []
  },
  {
   "cell_type": "code",
   "execution_count": null,
   "id": "96a3f5b6",
   "metadata": {},
   "outputs": [],
   "source": []
  }
 ],
 "metadata": {
  "kernelspec": {
   "display_name": "rl-bus",
   "language": "python",
   "name": "python3"
  },
  "language_info": {
   "codemirror_mode": {
    "name": "ipython",
    "version": 3
   },
   "file_extension": ".py",
   "mimetype": "text/x-python",
   "name": "python",
   "nbconvert_exporter": "python",
   "pygments_lexer": "ipython3",
   "version": "3.11.5"
  }
 },
 "nbformat": 4,
 "nbformat_minor": 5
}
