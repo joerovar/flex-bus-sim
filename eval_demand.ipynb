{
 "cells": [
  {
   "cell_type": "code",
   "execution_count": 1,
   "id": "8dd13b5a",
   "metadata": {},
   "outputs": [],
   "source": [
    "import numpy as np"
   ]
  },
  {
   "cell_type": "code",
   "execution_count": 19,
   "id": "5b8ce4e1",
   "metadata": {},
   "outputs": [],
   "source": [
    "def get_od_matrix(od_low, od_high):\n",
    "    od_matrix = [\n",
    "        [0, od_low, 0, od_high, 0, od_high, 0],\n",
    "        [0, 0, 0, od_low, 0, od_high, od_high],\n",
    "        [0, 0, 0, 0, 0, od_low, od_low], ## FLEX\n",
    "        [0, 0, 0, 0, 0, od_low, od_high],\n",
    "        [0, 0, 0, 0, 0, 0, od_low], ## FLEX\n",
    "        [0, 0, 0, 0, 0, 0, od_low]\n",
    "    ]\n",
    "    total_demand = np.sum(od_matrix)\n",
    "    total_boardings_per_stop = np.sum(od_matrix, axis=1)\n",
    "    flex_boardings = round(total_boardings_per_stop[2] + total_boardings_per_stop[4], 2)\n",
    "    pct_flex = flex_boardings / np.sum(total_boardings_per_stop) * 100\n",
    "    print(f\"Total demand: {round(total_demand,1)}\")\n",
    "    print(f\"Flex boardings: {flex_boardings } ({pct_flex:.1f}%)\")\n",
    "    print(f\"Fixed boardings: {round(total_demand- flex_boardings,1)} ({100 - pct_flex:.1f}%)\")\n",
    "    print(f\"Per stop stats\")\n",
    "    print(f\"Boardings per hour: {total_boardings_per_stop}\")\n",
    "    print(f\"Boardings per trip: {(total_boardings_per_stop / 6).round(1)}\")\n",
    "    print(f\"Boardings per trip: {round(total_demand / 6, 1)}\")"
   ]
  },
  {
   "cell_type": "code",
   "execution_count": 20,
   "id": "6fa80ac0",
   "metadata": {},
   "outputs": [
    {
     "name": "stdout",
     "output_type": "stream",
     "text": [
      "--------------------------------------\n",
      "Peak scenario:\n",
      "Total demand: 64.1\n",
      "Flex boardings: 11.4 (17.8%)\n",
      "Fixed boardings: 52.7 (82.2%)\n",
      "Per stop stats\n",
      "Boardings per hour: [18.8 18.8  7.6 11.3  3.8  3.8]\n",
      "Boardings per trip: [3.1 3.1 1.3 1.9 0.6 0.6]\n",
      "Boardings per trip: 10.7\n",
      "--------------------------------------\n",
      "Off-peak scenario:\n",
      "Total demand: 61.1\n",
      "Flex boardings: 14.4 (23.6%)\n",
      "Fixed boardings: 46.7 (76.4%)\n",
      "Per stop stats\n",
      "Boardings per hour: [15.8 15.8  9.6 10.3  4.8  4.8]\n",
      "Boardings per trip: [2.6 2.6 1.6 1.7 0.8 0.8]\n",
      "Boardings per trip: 10.2\n"
     ]
    }
   ],
   "source": [
    "# peak scenario\n",
    "OD_LOW = 3.8\n",
    "OD_HIGH = 7.5\n",
    "OD_LOW_OFF_PEAK = 4.8\n",
    "OD_HIGH_OFF_PEAK = 5.5\n",
    "\n",
    "print('--------------------------------------')\n",
    "\n",
    "print('Peak scenario:')\n",
    "get_od_matrix(OD_LOW, OD_HIGH)\n",
    "\n",
    "print('--------------------------------------')\n",
    "\n",
    "print('Off-peak scenario:')\n",
    "get_od_matrix(OD_LOW_OFF_PEAK, OD_HIGH_OFF_PEAK)"
   ]
  },
  {
   "cell_type": "code",
   "execution_count": null,
   "id": "44e147af",
   "metadata": {},
   "outputs": [],
   "source": []
  },
  {
   "cell_type": "code",
   "execution_count": null,
   "id": "96a3f5b6",
   "metadata": {},
   "outputs": [],
   "source": []
  }
 ],
 "metadata": {
  "kernelspec": {
   "display_name": "rl-bus",
   "language": "python",
   "name": "python3"
  },
  "language_info": {
   "codemirror_mode": {
    "name": "ipython",
    "version": 3
   },
   "file_extension": ".py",
   "mimetype": "text/x-python",
   "name": "python",
   "nbconvert_exporter": "python",
   "pygments_lexer": "ipython3",
   "version": "3.11.5"
  }
 },
 "nbformat": 4,
 "nbformat_minor": 5
}
