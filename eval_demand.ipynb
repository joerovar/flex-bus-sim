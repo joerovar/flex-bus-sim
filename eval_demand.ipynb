{
 "cells": [
  {
   "cell_type": "code",
   "execution_count": 28,
   "id": "8dd13b5a",
   "metadata": {},
   "outputs": [],
   "source": [
    "import numpy as np"
   ]
  },
  {
   "cell_type": "code",
   "execution_count": 29,
   "id": "5b8ce4e1",
   "metadata": {},
   "outputs": [],
   "source": [
    "def get_od_matrix(od_low, od_high):\n",
    "    od_matrix = [\n",
    "        [0, od_low, 0, od_high, 0, od_high, 0],\n",
    "        [0, 0, 0, od_low, 0, od_low, od_high],\n",
    "        [0, 0, 0, 0, 0, od_low, od_low], ## FLEX\n",
    "        [0, 0, 0, 0, 0, od_low, od_high],\n",
    "        [0, 0, 0, 0, 0, 0, od_low], ## FLEX\n",
    "        [0, 0, 0, 0, 0, 0, od_low]\n",
    "    ]\n",
    "    total_demand = np.sum(od_matrix)\n",
    "    total_boardings_per_stop = np.sum(od_matrix, axis=1)\n",
    "    flex_boardings = round(total_boardings_per_stop[2] + total_boardings_per_stop[4], 2)\n",
    "    pct_flex = flex_boardings / np.sum(total_boardings_per_stop) * 100\n",
    "    print(f\"Total demand: {total_demand}\")\n",
    "    print(f\"Total boardings: {total_boardings_per_stop}\")\n",
    "    print(f\"Flex boardings: {flex_boardings}\")\n",
    "    print(f\"Percentage of flex boardings: {pct_flex:.2f}%\")"
   ]
  },
  {
   "cell_type": "code",
   "execution_count": 42,
   "id": "6fa80ac0",
   "metadata": {},
   "outputs": [
    {
     "name": "stdout",
     "output_type": "stream",
     "text": [
      "Total demand: 60.4\n",
      "Total boardings: [18.8 15.1  7.6 11.3  3.8  3.8]\n",
      "Flex boardings: 11.4\n",
      "Percentage of flex boardings: 18.87%\n",
      "--------------------------------------\n",
      "Total demand: 60.4\n",
      "Total boardings: [15.8 15.1  9.6 10.3  4.8  4.8]\n",
      "Flex boardings: 14.4\n",
      "Percentage of flex boardings: 23.84%\n"
     ]
    }
   ],
   "source": [
    "# peak scenario\n",
    "OD_LOW = 3.8\n",
    "OD_HIGH = 7.5 # 11.3\n",
    "get_od_matrix(OD_LOW, OD_HIGH)\n",
    "\n",
    "print('--------------------------------------')\n",
    "# off-peak scenario \n",
    "OD_LOW = 4.8\n",
    "OD_HIGH = 5.5\n",
    "get_od_matrix(OD_LOW, OD_HIGH)"
   ]
  },
  {
   "cell_type": "code",
   "execution_count": null,
   "id": "44e147af",
   "metadata": {},
   "outputs": [],
   "source": []
  }
 ],
 "metadata": {
  "kernelspec": {
   "display_name": "rl-bus",
   "language": "python",
   "name": "python3"
  },
  "language_info": {
   "codemirror_mode": {
    "name": "ipython",
    "version": 3
   },
   "file_extension": ".py",
   "mimetype": "text/x-python",
   "name": "python",
   "nbconvert_exporter": "python",
   "pygments_lexer": "ipython3",
   "version": "3.11.5"
  }
 },
 "nbformat": 4,
 "nbformat_minor": 5
}
